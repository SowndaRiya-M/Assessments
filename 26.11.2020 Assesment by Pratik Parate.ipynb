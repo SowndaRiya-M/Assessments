{
 "cells": [
  {
   "cell_type": "code",
   "execution_count": 1,
   "metadata": {},
   "outputs": [
    {
     "name": "stdout",
     "output_type": "stream",
     "text": [
      "[2, 3, 5, 7, 11, 13, 17, 19, 23, 29, 31, 37, 41, 43, 47, 53, 59, 61, 67, 71, 73, 79, 83, 89, 97]\n"
     ]
    }
   ],
   "source": [
    "# 1.Write a program using list comprehension to find primes in range 2 to 100\n",
    "primes = [i for i in range(2,100) if all(i%j !=0 for j in range(2,int(i**0.5) + 1))]\n",
    "print(primes)"
   ]
  },
  {
   "cell_type": "code",
   "execution_count": 8,
   "metadata": {},
   "outputs": [],
   "source": [
    "import pandas as pd"
   ]
  },
  {
   "cell_type": "code",
   "execution_count": 11,
   "metadata": {},
   "outputs": [
    {
     "data": {
      "text/html": [
       "<div>\n",
       "<style scoped>\n",
       "    .dataframe tbody tr th:only-of-type {\n",
       "        vertical-align: middle;\n",
       "    }\n",
       "\n",
       "    .dataframe tbody tr th {\n",
       "        vertical-align: top;\n",
       "    }\n",
       "\n",
       "    .dataframe thead th {\n",
       "        text-align: right;\n",
       "    }\n",
       "</style>\n",
       "<table border=\"1\" class=\"dataframe\">\n",
       "  <thead>\n",
       "    <tr style=\"text-align: right;\">\n",
       "      <th></th>\n",
       "      <th>data</th>\n",
       "      <th>name</th>\n",
       "    </tr>\n",
       "  </thead>\n",
       "  <tbody>\n",
       "    <tr>\n",
       "      <th>0</th>\n",
       "      <td>1</td>\n",
       "      <td>ram</td>\n",
       "    </tr>\n",
       "    <tr>\n",
       "      <th>1</th>\n",
       "      <td>2</td>\n",
       "      <td>riya</td>\n",
       "    </tr>\n",
       "    <tr>\n",
       "      <th>2</th>\n",
       "      <td>3</td>\n",
       "      <td>rajan</td>\n",
       "    </tr>\n",
       "    <tr>\n",
       "      <th>3</th>\n",
       "      <td>4</td>\n",
       "      <td>radha</td>\n",
       "    </tr>\n",
       "  </tbody>\n",
       "</table>\n",
       "</div>"
      ],
      "text/plain": [
       "   data   name\n",
       "0     1    ram\n",
       "1     2   riya\n",
       "2     3  rajan\n",
       "3     4  radha"
      ]
     },
     "execution_count": 11,
     "metadata": {},
     "output_type": "execute_result"
    }
   ],
   "source": [
    "aa=pd.DataFrame({'data':[1,2,3,4],'name':['ram','riya','rajan','radha']})\n",
    "aa"
   ]
  },
  {
   "cell_type": "code",
   "execution_count": 2,
   "metadata": {},
   "outputs": [
    {
     "data": {
      "text/plain": [
       "'ecneicS ataD'"
      ]
     },
     "execution_count": 2,
     "metadata": {},
     "output_type": "execute_result"
    }
   ],
   "source": [
    "# 2. Write a function to reverse a string\n",
    "String = 'Data Science'\n",
    "String[::-1]"
   ]
  },
  {
   "cell_type": "code",
   "execution_count": 3,
   "metadata": {},
   "outputs": [
    {
     "name": "stdout",
     "output_type": "stream",
     "text": [
      "['Monday', 'Sunday', 'Saturday']\n"
     ]
    }
   ],
   "source": [
    "#3. Write a program to extract the words from the given list which have their first character in uppercase\n",
    "#Days = ['Monday', 'tuesday','friday', 'Sunday', 'Saturday']\n",
    "#Output: ['Monday', 'Sunday', 'Saturday']\n",
    "Days = ['Monday', 'tuesday','friday', 'Sunday', 'Saturday']\n",
    "a=[]\n",
    "for i in Days:\n",
    "    if i[0].isupper():\n",
    "        a.append(i)\n",
    "print(a)"
   ]
  },
  {
   "cell_type": "code",
   "execution_count": 4,
   "metadata": {},
   "outputs": [
    {
     "name": "stdout",
     "output_type": "stream",
     "text": [
      "1997\n",
      "2011\n",
      "1993\n",
      "2020\n"
     ]
    }
   ],
   "source": [
    "#4. Write a program to extract the year part from the dates in the given list\n",
    "#Batch = ['15-06-1997','15-06-2011','15-06-1993','15-06-2020']\n",
    "#Output: ['1997','2011','1993','2020']\n",
    "Batch = ['15-06-1997','15-06-2011','15-06-1993','15-06-2020']\n",
    "for i in Batch:\n",
    "    print(i[-4:])\n"
   ]
  },
  {
   "cell_type": "code",
   "execution_count": 5,
   "metadata": {},
   "outputs": [
    {
     "name": "stdout",
     "output_type": "stream",
     "text": [
      "1  :   Data Science\n",
      "2  :   Machine Learning\n",
      "3  :   SQL\n",
      "4  :   Big Data\n"
     ]
    }
   ],
   "source": [
    "#5. Write a program swap the keys to values and values to keys of the given dictionary\n",
    "#Module = {'Data Science':1,'Machine Learning':2, 'SQL':3, 'Big Data':4}\n",
    "#Output: {1:'Data Science',2:'Machine Learning', 3:'SQL', 4:'Big Data'}\n",
    "old = {'Data Science':1,'Machine Learning':2, 'SQL':3, 'Big Data':4} \n",
    "new = dict([(value, key) for key, value in old.items()])   \n",
    "for i in new: \n",
    "    print(i, \" :  \", new[i]) "
   ]
  },
  {
   "cell_type": "code",
   "execution_count": 7,
   "metadata": {},
   "outputs": [
    {
     "name": "stdout",
     "output_type": "stream",
     "text": [
      "5\n",
      "7\n",
      "8\n",
      "12\n",
      "18\n"
     ]
    }
   ],
   "source": [
    "#6. Wrote a program to calculate the cumulative average of the given list using accumulate() and lambda function\n",
    "#Input list: [5,2,1,4,6]\n",
    "\n",
    "import itertools\n",
    "input_list=[5,2,1,4,6]\n",
    "cum_avg= (lambda x:itertools.accumulate(x))\n",
    "for i in cum_avg(input_list):\n",
    "    print(i)\n",
    "\n"
   ]
  },
  {
   "cell_type": "code",
   "execution_count": 8,
   "metadata": {},
   "outputs": [
    {
     "name": "stdout",
     "output_type": "stream",
     "text": [
      "input:pratik\n",
      "3\n"
     ]
    }
   ],
   "source": [
    "#7. Write a program to count the number of elements in the string (given by the user) that are not present in the 'my_string'. Do not count the white spaces\n",
    "#Use Recursion\n",
    "#my_string = 'Data Science'\n",
    "\n",
    "input_string=input('input:')\n",
    "my_string = 'Data Science'\n",
    "sum=[]\n",
    "for i in input_string:\n",
    "    if i not in my_string:\n",
    "        sum.append(i)\n",
    "print(len(sum))"
   ]
  },
  {
   "cell_type": "code",
   "execution_count": 9,
   "metadata": {},
   "outputs": [
    {
     "name": "stdout",
     "output_type": "stream",
     "text": [
      "The no is not in range.\n",
      " 1500 is in the range\n"
     ]
    }
   ],
   "source": [
    "#8. Define a function to check whether a number is in a range (1000,10000) or not\n",
    "def trange(i):\n",
    "    if i in range(1000,10000):\n",
    "        print( \" %s is in the range\"%str(i))\n",
    "    else :\n",
    "        print(\"The no is not in range.\")\n",
    "trange(500)\n",
    "trange(1500)"
   ]
  },
  {
   "cell_type": "code",
   "execution_count": 10,
   "metadata": {},
   "outputs": [
    {
     "name": "stdout",
     "output_type": "stream",
     "text": [
      "Enter the no of rows : 5\n",
      "           1\n",
      "         1   1\n",
      "       1   2   1\n",
      "     1   3   3   1\n",
      "   1   4   6   4   1\n"
     ]
    }
   ],
   "source": [
    "#9. Write a program to print pascal triangle upto 6 steps (using list)\n",
    "n = int(input(\"Enter the no of rows : \"))\n",
    "for i in range(0, n):\n",
    "    coff = 1\n",
    "    for j in range(1, n-i):\n",
    "        print(\"  \", end=\"\")\n",
    "    for k in range(0, i+1):\n",
    "        print(\"  \", coff, end=\"\")\n",
    "        coff = int(coff * (i - k) / (k + 1))\n",
    "    print()\n"
   ]
  },
  {
   "cell_type": "code",
   "execution_count": 11,
   "metadata": {},
   "outputs": [
    {
     "name": "stdout",
     "output_type": "stream",
     "text": [
      "Sum:  104\n"
     ]
    }
   ],
   "source": [
    "#10. Write a program to calculate the sum of all elements in the list\n",
    "#test_score = [10, 32, 23, 14, 25]\n",
    "\n",
    "score = [10, 32, 23, 14, 25]\n",
    "sum=0\n",
    "for i in score:\n",
    "    sum=sum+i\n",
    "\n",
    "print(\"Sum: \", sum)"
   ]
  }
 ],
 "metadata": {
  "kernelspec": {
   "display_name": "Python 3",
   "language": "python",
   "name": "python3"
  },
  "language_info": {
   "codemirror_mode": {
    "name": "ipython",
    "version": 3
   },
   "file_extension": ".py",
   "mimetype": "text/x-python",
   "name": "python",
   "nbconvert_exporter": "python",
   "pygments_lexer": "ipython3",
   "version": "3.7.6"
  }
 },
 "nbformat": 4,
 "nbformat_minor": 4
}
